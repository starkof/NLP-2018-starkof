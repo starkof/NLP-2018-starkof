{
 "cells": [
  {
   "cell_type": "code",
   "execution_count": 1,
   "metadata": {
    "collapsed": true
   },
   "outputs": [],
   "source": [
    "#Importing necessary libraries.\n",
    "import sys\n",
    "import pandas as pd\n",
    "import pickle\n",
    "from nltk.corpus import stopwords\n",
    "from sklearn.model_selection import train_test_split\n",
    "from sklearn.feature_extraction.text import TfidfVectorizer\n",
    "from sklearn.naive_bayes import MultinomialNB\n",
    "from sklearn.metrics import accuracy_score\n",
    "\n",
    "topic = 'topicModel.pickle'\n",
    "answer = 'answerModel.pickle'\n",
    "t_vect = \"topicVector.pickle\"\n",
    "a_vect = \"answerVector.pickle\""
   ]
  },
  {
   "cell_type": "code",
   "execution_count": 2,
   "metadata": {
    "collapsed": true
   },
   "outputs": [],
   "source": [
    "def preProcessing():\n",
    "    #Opening .txt files\n",
    "    q = open(\"Questions.txt\", \"r\", encoding = \"utf8\")\n",
    "    a = open(\"Answers.txt\", \"r\", encoding = \"utf8\")\n",
    "    t = open(\"Topics.txt\", 'r', encoding = \"utf8\")\n",
    "    \n",
    "    q_a = []\n",
    "    a_a = []\n",
    "    t_a = []\n",
    "    \n",
    "    with open('full.txt', 'w', encoding = \"utf8\") as f:\n",
    "        for line in q:\n",
    "            q_a.append(str(line.rstrip('\\n')))\n",
    "        for line in a:\n",
    "            a_a.append(str(line.rstrip('\\n')))\n",
    "        for line in t:\n",
    "            t_a.append(str(line.rstrip('\\n')))\n",
    "        \n",
    "        for i in range(len(q_a)):\n",
    "            r = q_a[i] + \"\\t\" + a_a[i] + \"\\t\" + t_a[i] + \"\\n\"\n",
    "            f.write(r)\n",
    "    \n",
    "    q.close()\n",
    "    a.close()\n",
    "    t.close()\n",
    "                  \n",
    "    dataList = pd.read_csv(\"full.txt\", sep=\"\\t\", header = None)\n",
    "    return dataList\n",
    "    "
   ]
  },
  {
   "cell_type": "code",
   "execution_count": 3,
   "metadata": {
    "collapsed": true
   },
   "outputs": [],
   "source": [
    "def vectorise(x, y, vect):\n",
    "    normal = TfidfVectorizer(use_idf= True, lowercase = True, strip_accents = ascii, stop_words=set(stopwords.words('english')))\n",
    "    cleanX = normal.fit_transform(x.astype(str))\n",
    "    with open(vect,'wb') as f:\n",
    "        pickle.dump(normal, f)\n",
    "    featureArr = cleanX.toarray()\n",
    "    X_train, X_test, y_train, y_test = train_test_split(featureArr, y.astype(str), test_size = 0.2, random_state = 20)\n",
    "    return X_train, X_test, y_train, y_test\n"
   ]
  },
  {
   "cell_type": "code",
   "execution_count": 4,
   "metadata": {
    "collapsed": true
   },
   "outputs": [],
   "source": [
    "#This function creates a naive bayes model and trains on x_train and y_train.\n",
    "#The trained model is stored in a pickle file.\n",
    "def naiveBayes(x,y, model):\n",
    "    nb = MultinomialNB()\n",
    "    print('fitting.....')\n",
    "    nb.fit(x, y)\n",
    "    print('fitted!')\n",
    "    with open(model,'wb') as f:\n",
    "        pickle.dump(nb, f)"
   ]
  },
  {
   "cell_type": "code",
   "execution_count": 5,
   "metadata": {
    "collapsed": true
   },
   "outputs": [],
   "source": [
    "def train(model):\n",
    "    data = preProcessing()\n",
    "    q = data[0]\n",
    "    a = data[1]\n",
    "    t = data[2]\n",
    "    if model == topic:\n",
    "        values = vectorise(q,t, t_vect)\n",
    "    elif model == answer:\n",
    "        values = vectorise(q, a, a_vect)\n",
    "    naiveBayes(values[0],values[2], model)"
   ]
  },
  {
   "cell_type": "code",
   "execution_count": 6,
   "metadata": {
    "collapsed": true
   },
   "outputs": [],
   "source": [
    "def load(file):\n",
    "    with open(file,'rb') as f:\n",
    "        trainedData = pickle.load(f)\n",
    "    return trainedData"
   ]
  },
  {
   "cell_type": "code",
   "execution_count": 7,
   "metadata": {
    "collapsed": true
   },
   "outputs": [],
   "source": [
    "def predict(test, mod):\n",
    "    exist = False\n",
    "    try:\n",
    "        f = open(mod, 'rb')\n",
    "        f.close()\n",
    "        exist = True\n",
    "    except FileNotFoundError:\n",
    "        pass\n",
    "    if exist is True:\n",
    "        model = load(mod)\n",
    "        pred = model.predict(test)\n",
    "        pred = pred.tolist()\n",
    "        for i in pred:\n",
    "            print(str(i)+'\\n')\n",
    "    else:\n",
    "        print('training {}.....'.format(mod))\n",
    "        train(mod)\n",
    "        model = load(mod)\n",
    "        pred = model.predict(test)\n",
    "        pred = pred.tolist()\n",
    "        for i in pred:\n",
    "            print(str(i)+'\\n')\n",
    "    return pred\n",
    "\n"
   ]
  },
  {
   "cell_type": "code",
   "execution_count": 8,
   "metadata": {
    "collapsed": true
   },
   "outputs": [],
   "source": [
    "def toVector(file, vect):\n",
    "    dataList = []\n",
    "    \n",
    "    df = pd.read_table(str(file), header = None)\n",
    "    dataList.append(df)\n",
    "        \n",
    "    frame = pd.concat(dataList)\n",
    "    \n",
    "    vectorizer = load(vect)\n",
    "    features = vectorizer.transform(frame[0])\n",
    "    featureArr = features.toarray()\n",
    "    return featureArr"
   ]
  },
  {
   "cell_type": "code",
   "execution_count": 9,
   "metadata": {
    "collapsed": true
   },
   "outputs": [],
   "source": [
    "data = preProcessing()\n",
    "q = data[0]\n",
    "a = data[1]\n",
    "t = data[2]\n",
    "t_vector = vectorise(q, t, t_vect)\n",
    "a_vector = vectorise(q, a, a_vect)"
   ]
  },
  {
   "cell_type": "code",
   "execution_count": 10,
   "metadata": {
    "collapsed": true
   },
   "outputs": [],
   "source": [
    "def main(argv):\n",
    "    if argv[1] == \"qa\":\n",
    "        testData = toVector(argv[2],\"answerVector.pickle\")\n",
    "        writeFile = open('qa_results.txt', 'w')\n",
    "        exist = False\n",
    "        try:\n",
    "            f = open('answerModel.pickle', 'rb')\n",
    "            f.close()\n",
    "            exist = True\n",
    "        except FileNotFoundError:\n",
    "            pass\n",
    "        if exist is True:\n",
    "            model = load('answerModel.pickle')\n",
    "            pred = model.predict(testData)\n",
    "            pred = pred.tolist()\n",
    "            for i in pred:\n",
    "                writeFile.write(str(i)+'\\n')\n",
    "        else:\n",
    "            train(answer)\n",
    "            model = load('answerModel.pickle')\n",
    "            pred = model.predict(testData)\n",
    "            pred = pred.tolist()\n",
    "            for i in pred:\n",
    "                writeFile.write(str(i)+'\\n')\n",
    "    elif argv[1] == \"topic\":\n",
    "        testData = toVector(argv[2],\"topicVector.pickle\")\n",
    "        writeFile = open('topic_results.txt', 'w')\n",
    "        exist = False\n",
    "        try:\n",
    "            f = open('topicModel.pickle', 'rb')\n",
    "            f.close()\n",
    "            exist = True\n",
    "        except FileNotFoundError:\n",
    "            pass\n",
    "        if exist is True:\n",
    "            model = load('topicModel.pickle')\n",
    "            pred = model.predict(testData)\n",
    "            pred = pred.tolist()\n",
    "            for i in pred:\n",
    "                writeFile.write(str(i)+'\\n')\n",
    "        else:\n",
    "            train(topic)\n",
    "            model = load('topicModel.pickle')\n",
    "            pred = model.predict(testData)\n",
    "            pred = pred.tolist()\n",
    "            for i in pred:\n",
    "                writeFile.write(str(i)+'\\n')\n",
    "main(sys.argv) "
   ]
  },
  {
   "cell_type": "code",
   "execution_count": null,
   "metadata": {
    "collapsed": true
   },
   "outputs": [],
   "source": []
  }
 ],
 "metadata": {
  "kernelspec": {
   "display_name": "Python 3",
   "language": "python",
   "name": "python3"
  },
  "language_info": {
   "codemirror_mode": {
    "name": "ipython",
    "version": 3
   },
   "file_extension": ".py",
   "mimetype": "text/x-python",
   "name": "python",
   "nbconvert_exporter": "python",
   "pygments_lexer": "ipython3",
   "version": "3.6.3"
  }
 },
 "nbformat": 4,
 "nbformat_minor": 2
}
