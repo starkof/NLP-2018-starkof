{
 "cells": [
  {
   "cell_type": "markdown",
   "metadata": {},
   "source": [
    "#  Natural Language Processing Group Project\n",
    "## Topic Modelling - Logistic Regression Implementation\n",
    "\n",
    "Name: Our Group\n"
   ]
  },
  {
   "cell_type": "code",
   "execution_count": 74,
   "metadata": {},
   "outputs": [
    {
     "name": "stdout",
     "output_type": "stream",
     "text": [
      "[nltk_data] Downloading package punkt to\n",
      "[nltk_data]     C:\\Users\\study\\AppData\\Roaming\\nltk_data...\n",
      "[nltk_data]   Package punkt is already up-to-date!\n",
      "[nltk_data] Downloading package wordnet to\n",
      "[nltk_data]     C:\\Users\\study\\AppData\\Roaming\\nltk_data...\n",
      "[nltk_data]   Package wordnet is already up-to-date!\n"
     ]
    }
   ],
   "source": [
    "import re\n",
    "import nltk\n",
    "nltk.download('punkt')\n",
    "nltk.download('wordnet')\n",
    "from nltk.stem.lancaster import LancasterStemmer\n",
    "from nltk.stem import WordNetLemmatizer\n",
    "import numpy as np\n",
    "import pandas as pd\n",
    "import sklearn\n",
    "from sklearn.model_selection import train_test_split\n",
    "from sklearn.linear_model import LogisticRegression\n",
    "from sklearn.feature_extraction.text import CountVectorizer, TfidfTransformer\n",
    "from sklearn import metrics\n",
    "from sklearn.metrics import accuracy_score, classification_report\n",
    "import sys"
   ]
  },
  {
   "cell_type": "code",
   "execution_count": 75,
   "metadata": {},
   "outputs": [],
   "source": [
    "def read_data():\n",
    "    question_data = pd.read_csv('Questions.txt', sep='\\t', names=['questions'], index_col= None, header = 0,encoding =  \"ISO-8859-1\" )\n",
    "    topics_data = pd.read_csv('Topics.txt', sep='\\t', names=['topics'], index_col= None, header = 0,encoding =  \"ISO-8859-1\" )\n",
    "        \n",
    "    #After getting the data I combine them into 1 data frame to get questions and topics\n",
    "    q_t_data = pd.concat([question_data,topics_data],axis=1)\n",
    "    \n",
    "    #I then return the questions and topics as a list\n",
    "    return q_t_data.questions.values.tolist(), q_t_data.topics.values.tolist()"
   ]
  },
  {
   "cell_type": "code",
   "execution_count": 76,
   "metadata": {},
   "outputs": [],
   "source": [
    "# I used stemming only on questions to remove any unncessary words. \n",
    "def stemming(questions):\n",
    "    lancaster_stemmer = LancasterStemmer()\n",
    "    n_questions = []\n",
    "    for question in questions:\n",
    "        n_questions.append(' '.join(lancaster_stemmer.stem(token)for token in nltk.word_tokenize(question)))\n",
    "    return(n_questions)"
   ]
  },
  {
   "cell_type": "code",
   "execution_count": 77,
   "metadata": {},
   "outputs": [],
   "source": [
    "def lemming(questions):\n",
    "    wordnet_lemmatizer = WordNetLemmatizer()\n",
    "    n_questions = []\n",
    "    for question in questions:\n",
    "        n_questions.append(' '.join(wordnet_lemmatizer.lemmatize(token)for token in nltk.word_tokenize(question)))\n",
    "    return(n_questions)"
   ]
  },
  {
   "cell_type": "code",
   "execution_count": 78,
   "metadata": {},
   "outputs": [],
   "source": [
    "def lr_train(questions,labels):\n",
    "\n",
    "    #N-gram model that comes up with features or occurances of words\n",
    "    \n",
    "    count_vect = CountVectorizer(stop_words='english')\n",
    "    tf_transform = TfidfTransformer()\n",
    "    \n",
    "    X_train_counts = count_vect.fit_transform(r for r in questions)\n",
    "    \n",
    "    # This is to scale down impact of tkens that occur very frequently and arent\n",
    "    #very informative.\n",
    "    #Term Frequency time Inverse Document Frequency\n",
    "\n",
    "    X_train_counts = count_vect.fit_transform(r for r in questions)\n",
    "    \n",
    "    # This is to scale down impact of tkens that occur very frequently and arent\n",
    "    #very informative.\n",
    "    #Term Frequency time Inverse Document Frequency\n",
    "    \n",
    "    X_train_tf = tf_transform.fit_transform(X_train_counts)\n",
    "    \n",
    "    #splitting data into test and training sets\n",
    "    X_train, X_test, Y_train, Y_test =train_test_split(X_train_tf,labels, random_state = 35 , train_size =0.80, test_size =0.20)\n",
    " \n",
    "\n",
    "    #MAKING THE MODEL\n",
    "    lrn = LogisticRegression()\n",
    "    model = lrn.fit(X_train, Y_train)\n",
    "    #array.reshape(-1, 1)\n",
    "    \n",
    "    return lrn, tf_transform, count_vect, model, X_test, Y_test\n",
    "    \n",
    "  "
   ]
  },
  {
   "cell_type": "code",
   "execution_count": 79,
   "metadata": {},
   "outputs": [],
   "source": [
    " def lr_test(test_file,questions,labels):\n",
    "    lrn,tf_transform, count_vect, model, X_test, Y_test = lr_train(questions,labels)\n",
    "   \n",
    "  \n",
    "    \n",
    "    #Now using the test set I need to know if I'm right\n",
    "    #test_data = []\n",
    "    #for line in open(test_file):\n",
    "    #    r2 = re.compile(r'[^a-zA-Z0-9]', re.MULTILINE)\n",
    "    #    s = r2.sub(' ', line)\n",
    "    #    test_data.append(s)\n",
    "    \n",
    "    \n",
    "    #test_data = stemming(test_data)\n",
    "    #test_data = lemming(test_data)\n",
    "        \n",
    "    \n",
    "    \n",
    "    \n",
    "    #Making sentiment classification\n",
    "    #for i in range (len(test_data)):\n",
    "        #X_pred_counts = count_vect.transform(test_data)\n",
    "        #X_pred_tf = tf_transform.transform(X_pred_counts)\n",
    "        #predictions = lrn.predict(X_pred_tf)\n",
    "                \n",
    "                        \n",
    "    #Evaluating the model using the classification report function form sklearn\n",
    "\n",
    "    predicted = model.predict(X_test)    \n",
    "    print(\"The accuracy of this test is: \" ,accuracy_score(Y_test, predicted)*100) \n",
    "\n",
    "    print(\"This is a more detailed report of the classifiers performance: \\n\" ,classification_report(Y_test, predicted))\n",
    "    \n",
    "    return(predicted,\"\\n\")                                                \n",
    "                                                     \n",
    "                                        "
   ]
  },
  {
   "cell_type": "code",
   "execution_count": 80,
   "metadata": {},
   "outputs": [],
   "source": [
    "def my_LR(testfile):\n",
    "    questions, topics = read_data()\n",
    "    questions = stemming(questions)\n",
    "    questions = lemming(questions)\n",
    "    lr_test(testfile,questions, topics)"
   ]
  },
  {
   "cell_type": "code",
   "execution_count": 81,
   "metadata": {},
   "outputs": [],
   "source": [
    "def results(classifier, version, predictL):\n",
    "    file_name = open(\"results-\"+classifier+\"-\"+version+\".txt\", w)\n",
    "    #file_name.write(\"Ouput: \"+\"\\n\")\n",
    "    \n",
    "    for label in predictL[0]:\n",
    "        file_name.write(str(label)+\"\\n\")\n",
    "\n"
   ]
  },
  {
   "cell_type": "code",
   "execution_count": 82,
   "metadata": {},
   "outputs": [
    {
     "name": "stdout",
     "output_type": "stream",
     "text": [
      "The accuracy of this test is:  78.39506172839506\n",
      "This is a more detailed report of the classifiers performance: \n",
      "                              precision    recall  f1-score   support\n",
      "\n",
      "            Abraham_Lincoln       0.80      1.00      0.89         4\n",
      "           Alessandro_Volta       0.75      0.86      0.80         7\n",
      "            Amedeo_Avogadro       0.78      0.88      0.82         8\n",
      "             Anders_Celsius       0.70      1.00      0.82         7\n",
      "            Arabic_language       0.00      0.00      0.00         1\n",
      "                        Bee       1.00      1.00      1.00         1\n",
      "                    Beijing       0.00      0.00      0.00         2\n",
      "                     Berlin       0.50      0.50      0.50         2\n",
      "                  Butterfly       1.00      1.00      1.00         1\n",
      "            Calvin_Coolidge       0.86      1.00      0.92         6\n",
      "                     Canada       0.50      0.75      0.60         4\n",
      "                      Cello       1.00      0.33      0.50         3\n",
      "Charles-Augustin_de_Coulomb       1.00      0.83      0.91         6\n",
      "           Chinese_language       0.50      0.50      0.50         2\n",
      "                 Copenhagen       1.00      1.00      1.00         1\n",
      "                     Cougar       1.00      0.50      0.67         2\n",
      "                     Cymbal       1.00      0.89      0.94         9\n",
      "                       Drum       1.00      1.00      1.00         4\n",
      "                        Eel       1.00      0.50      0.67         2\n",
      "                      Egypt       1.00      1.00      1.00         4\n",
      "                    Finland       0.75      0.60      0.67         5\n",
      "           Finnish_language       1.00      0.33      0.50         3\n",
      "                      Flute       1.00      0.88      0.93         8\n",
      "                        Fox       1.00      1.00      1.00         1\n",
      "            French_language       0.00      0.00      0.00         3\n",
      "                Gerald_Ford       1.00      1.00      1.00         3\n",
      "            German_language       0.00      0.00      0.00         0\n",
      "                      Ghana       1.00      1.00      1.00         4\n",
      "                Giant_Panda       0.00      0.00      0.00         1\n",
      "                    Giraffe       1.00      0.33      0.50         3\n",
      "                  Gray_Wolf       1.00      0.80      0.89         5\n",
      "           Grover_Cleveland       1.00      0.33      0.50         3\n",
      "                     Guitar       0.50      0.50      0.50         2\n",
      "            Henri_Becquerel       1.00      1.00      1.00         5\n",
      "                  Indonesia       0.67      0.67      0.67         6\n",
      "               Isaac_Newton       1.00      1.00      1.00         1\n",
      "                    Jakarta       1.00      0.43      0.60         7\n",
      "               James_Monroe       1.00      0.83      0.91         6\n",
      "                 James_Watt       0.75      1.00      0.86         3\n",
      "                 John_Adams       1.00      1.00      1.00         2\n",
      "            Korean_language       0.86      1.00      0.92         6\n",
      "               Kuala_Lumpur       1.00      1.00      1.00         3\n",
      "              Liechtenstein       0.80      0.67      0.73         6\n",
      "                    Lobster       1.00      1.00      1.00         1\n",
      "                     London       0.00      0.00      0.00         3\n",
      "                       Lyre       0.00      0.00      0.00         2\n",
      "             Malay_language       0.80      1.00      0.89         4\n",
      "                  Melbourne       1.00      1.00      1.00         2\n",
      "            Michael_Faraday       0.60      0.75      0.67         4\n",
      "           Millard_Fillmore       1.00      1.00      1.00         8\n",
      "                   Montreal       0.00      0.00      0.00         2\n",
      "                    Nairobi       1.00      1.00      1.00         2\n",
      "               Nikola_Tesla       1.00      1.00      1.00         6\n",
      "                    Octopus       1.00      1.00      1.00         3\n",
      "                     Ottawa       0.50      1.00      0.67         1\n",
      "                      Otter       0.00      0.00      0.00         3\n",
      "                      Piano       1.00      1.00      1.00         2\n",
      "        Portuguese_language       0.50      1.00      0.67         2\n",
      "                      Qatar       1.00      0.25      0.40         4\n",
      "                    Romania       1.00      1.00      1.00         4\n",
      "           Saint_Petersburg       0.00      0.00      0.00         2\n",
      "              San_Francisco       1.00      0.67      0.80         3\n",
      "                   Santiago       1.00      1.00      1.00         1\n",
      "                  Singapore       0.07      1.00      0.13         2\n",
      "           Swahili_language       1.00      1.00      1.00         2\n",
      "                       Swan       1.00      0.80      0.89         5\n",
      "           Swedish_language       0.00      0.00      0.00         2\n",
      "                     Taipei       1.00      0.33      0.50         3\n",
      "         Theodore_Roosevelt       1.00      1.00      1.00         4\n",
      "                    Trumpet       1.00      1.00      1.00         2\n",
      "           Ulysses_S._Grant       1.00      0.80      0.89         5\n",
      "                    Uruguay       0.80      1.00      0.89         8\n",
      "                     Violin       0.50      1.00      0.67         3\n",
      "             Woodrow_Wilson       1.00      1.00      1.00         7\n",
      "                  Xylophone       1.00      0.60      0.75         5\n",
      "                      Zebra       1.00      1.00      1.00         1\n",
      "                     beetle       0.80      0.67      0.73         6\n",
      "                       duck       1.00      1.00      1.00         4\n",
      "                   elephant       1.00      0.83      0.91         6\n",
      "                   kangaroo       0.60      1.00      0.75         6\n",
      "                    leopard       1.00      1.00      1.00         6\n",
      "                      otter       0.67      0.75      0.71         8\n",
      "                    penguin       1.00      0.33      0.50         3\n",
      "                 polar_bear       1.00      1.00      1.00         4\n",
      "                     turtle       0.79      1.00      0.88        11\n",
      "\n",
      "                avg / total       0.82      0.78      0.78       324\n",
      "\n"
     ]
    },
    {
     "name": "stderr",
     "output_type": "stream",
     "text": [
      "C:\\Users\\study\\Anaconda3\\lib\\site-packages\\sklearn\\metrics\\classification.py:1135: UndefinedMetricWarning: Precision and F-score are ill-defined and being set to 0.0 in labels with no predicted samples.\n",
      "  'precision', 'predicted', average, warn_for)\n",
      "C:\\Users\\study\\Anaconda3\\lib\\site-packages\\sklearn\\metrics\\classification.py:1137: UndefinedMetricWarning: Recall and F-score are ill-defined and being set to 0.0 in labels with no true samples.\n",
      "  'recall', 'true', average, warn_for)\n"
     ]
    }
   ],
   "source": [
    "def main():\n",
    "    script = sys.argv[0]\n",
    "    file_name=sys.argv[1]\n",
    "    my_LR()\n",
    "\n",
    "main()"
   ]
  },
  {
   "cell_type": "code",
   "execution_count": null,
   "metadata": {},
   "outputs": [],
   "source": []
  },
  {
   "cell_type": "code",
   "execution_count": null,
   "metadata": {},
   "outputs": [],
   "source": []
  },
  {
   "cell_type": "code",
   "execution_count": null,
   "metadata": {},
   "outputs": [],
   "source": []
  }
 ],
 "metadata": {
  "kernelspec": {
   "display_name": "Python 3",
   "language": "python",
   "name": "python3"
  },
  "language_info": {
   "codemirror_mode": {
    "name": "ipython",
    "version": 3
   },
   "file_extension": ".py",
   "mimetype": "text/x-python",
   "name": "python",
   "nbconvert_exporter": "python",
   "pygments_lexer": "ipython3",
   "version": "3.6.5"
  }
 },
 "nbformat": 4,
 "nbformat_minor": 2
}
