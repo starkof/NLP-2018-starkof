{
 "cells": [
  {
   "cell_type": "code",
   "execution_count": 11,
   "metadata": {},
   "outputs": [
    {
     "ename": "SyntaxError",
     "evalue": "invalid syntax (<ipython-input-11-ba81c83b93c1>, line 17)",
     "output_type": "error",
     "traceback": [
      "\u001b[1;36m  File \u001b[1;32m\"<ipython-input-11-ba81c83b93c1>\"\u001b[1;36m, line \u001b[1;32m17\u001b[0m\n\u001b[1;33m    print(type(a))\u001b[0m\n\u001b[1;37m        ^\u001b[0m\n\u001b[1;31mSyntaxError\u001b[0m\u001b[1;31m:\u001b[0m invalid syntax\n"
     ]
    }
   ],
   "source": [
    "import numpy as np\n",
    "from sklearn.feature_extraction.text import CountVectorizer\n",
    "\n",
    "def vectorize(a,b):\n",
    "    vectorizer = CountVectorizer(analyzer = 'word',lowercase = False)\n",
    "    vector_a = vectorizer.fit_transform(a)\n",
    "    vector_b = vectorizer.fit_transform(b)\n",
    "    return vector_a, vector_b\n",
    "\n",
    "a,b = vectorize([\"Mason really loves food\"],[\"Hannah loves food too\"])\n",
    "def cos_sim(a, b):\n",
    "    \"\"\"Takes 2 vectors a, b and returns the cosine similarity according \n",
    "    to the definition of the dot product\n",
    "    \"\"\" \n",
    "    print(np.size(a), np.size(b))\n",
    "    print(np.array(a))\n",
    "    print(type(a))\n",
    "#     dot_product = np.dot(a, b)\n",
    "#     norm_a = np.linalg.norm(a)\n",
    "#     norm_b = np.linalg.norm(b)\n",
    "#     return dot_product / (norm_a * norm_b)\n",
    "\n",
    "\n",
    "print(cos_sim(a,b))"
   ]
  },
  {
   "cell_type": "code",
   "execution_count": null,
   "metadata": {
    "collapsed": true
   },
   "outputs": [],
   "source": []
  }
 ],
 "metadata": {
  "kernelspec": {
   "display_name": "Python 3",
   "language": "python",
   "name": "python3"
  },
  "language_info": {
   "codemirror_mode": {
    "name": "ipython",
    "version": 3
   },
   "file_extension": ".py",
   "mimetype": "text/x-python",
   "name": "python",
   "nbconvert_exporter": "python",
   "pygments_lexer": "ipython3",
   "version": "3.6.3"
  }
 },
 "nbformat": 4,
 "nbformat_minor": 2
}
