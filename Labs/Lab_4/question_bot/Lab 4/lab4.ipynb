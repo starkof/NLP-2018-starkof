{
 "cells": [
  {
   "cell_type": "code",
   "execution_count": null,
   "metadata": {
    "collapsed": true
   },
   "outputs": [],
   "source": [
    "#Importing necessary classifiers and libraries\n",
    "import sys\n",
    "import naive_bayes\n",
    "import normalized_naive_bayes\n",
    "import logistic_regression\n",
    "import normalized_logistic_regression"
   ]
  },
  {
   "cell_type": "code",
   "execution_count": null,
   "metadata": {
    "collapsed": true
   },
   "outputs": [],
   "source": [
    "#Checking the argument variables and decides which classifier to run.\n",
    "def main(argv):\n",
    "    if str(argv[1])=='nb' and str(argv[2])=='u':\n",
    "        naive_bayes.main(argv)\n",
    "        \n",
    "    elif str(argv[1])=='nb' and str(argv[2])=='n':\n",
    "        normalized_naive_bayes.main(argv)\n",
    "        \n",
    "    elif str(argv[1])=='lr' and str(argv[2])=='u':\n",
    "        logistic_regression.main(argv)\n",
    "        \n",
    "    elif str(argv[1])=='lr' and str(argv[2])=='n':\n",
    "        normalized_logistic_regression.main(argv)\n",
    "        \n",
    "main(sys.argv)"
   ]
  }
 ],
 "metadata": {
  "kernelspec": {
   "display_name": "Python 3",
   "language": "python",
   "name": "python3"
  },
  "language_info": {
   "codemirror_mode": {
    "name": "ipython",
    "version": 3
   },
   "file_extension": ".py",
   "mimetype": "text/x-python",
   "name": "python",
   "nbconvert_exporter": "python",
   "pygments_lexer": "ipython3",
   "version": "3.6.3"
  }
 },
 "nbformat": 4,
 "nbformat_minor": 2
}
