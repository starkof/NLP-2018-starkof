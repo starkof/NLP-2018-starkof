{
 "cells": [
  {
   "cell_type": "code",
   "execution_count": 46,
   "metadata": {},
   "outputs": [
    {
     "name": "stdout",
     "output_type": "stream",
     "text": [
      "['Mason', 'really', 'loves', 'food', 'Hannah', 'too', 'The', 'whale', 'is']\n",
      "0.5\n",
      "0.25\n",
      "[[1.         0.19245009 0.         0.1490712  0.11785113 0.        ]\n",
      " [0.19245009 1.         0.         0.         0.         0.        ]\n",
      " [0.         0.         1.         0.14142136 0.         0.        ]\n",
      " [0.1490712  0.         0.14142136 1.         0.15811388 0.        ]\n",
      " [0.11785113 0.         0.         0.15811388 1.         0.4330127 ]\n",
      " [0.         0.         0.         0.         0.4330127  1.        ]]\n"
     ]
    }
   ],
   "source": [
    "import numpy as np\n",
    "import pandas as pd\n",
    "from sklearn.feature_extraction.text import CountVectorizer\n",
    "\n",
    "\n",
    "def baby_vectoriser(corpus):\n",
    "    r = \"\"\n",
    "    for i in corpus:\n",
    "        r = r +\" \" + i\n",
    "        \n",
    "    r = r.split()\n",
    "    \n",
    "    data = []\n",
    "    for i in r:\n",
    "        if i not in data:\n",
    "            data.append(i)\n",
    "            \n",
    "    return data\n",
    "\n",
    "def to_array(a, data):\n",
    "\n",
    "    _a = np.zeros(shape=len(data))\n",
    "    \n",
    "    for i in range(len(data)):\n",
    "        if data[i] in a.split():\n",
    "            _a[i] = 1\n",
    "    \n",
    "    return _a\n",
    "\n",
    "def cos_sim(a, b):\n",
    "\t\"\"\"Takes 2 vectors a, b and returns the cosine similarity according \n",
    "\tto the definition of the dot product\n",
    "\t\"\"\"\n",
    "\tdot_product = np.dot(a, b)\n",
    "\tnorm_a = np.linalg.norm(a)\n",
    "\tnorm_b = np.linalg.norm(b)\n",
    "\treturn dot_product / (norm_a * norm_b)\n",
    "\n",
    "# the counts we computed above\n",
    "sentence_m = np.array([1, 1, 1, 1, 0, 0, 0, 0, 0]) \n",
    "sentence_h = np.array([0, 0, 1, 1, 1, 1, 0, 0, 0])\n",
    "sentence_w = np.array([0, 0, 0, 1, 0, 0, 1, 1, 1])\n",
    "\n",
    "corpus = [\"Mason really loves food\",\"Hannah loves food too\",\"The whale is food\"]\n",
    "voc = baby_vectoriser(corpus)\n",
    "print(voc)\n",
    "a = to_array(corpus[0], voc)\n",
    "b = to_array(corpus[1], voc)\n",
    "c = to_array(corpus[2], voc)\n",
    "\n",
    "# We should expect sentence_m and sentence_h to be more similar\n",
    "print(cos_sim(a, b)) # 0.5\n",
    "print(cos_sim(a, c)) # 0.25\n",
    "\n",
    "# full distin\n",
    "\n",
    "\n",
    "corpus = [\"How many teams participated in the first world cup?\",\"Who holds the record for top scorer in a single World Cup?\",\"Should I sell my car myself or trade it in?\",\"How important is car maintenance?\",\"How much does AWS SAM cost to use\",\"Which languages does AWS SAM support\"]\n",
    "\n",
    "def full(corpus):\n",
    "    voc = baby_vectoriser(corpus)\n",
    "    s = len(corpus)\n",
    "    full = np.zeros(shape=[s, s])\n",
    "    \n",
    "    for i in range(s):\n",
    "        for j in range(s):\n",
    "            a = to_array(corpus[i], voc)\n",
    "            b = to_array(corpus[j], voc)\n",
    "            full[i][j] = cos_sim(a, b)\n",
    "    return full\n",
    "\n",
    "f = full(corpus)\n",
    "print(f)"
   ]
  },
  {
   "cell_type": "code",
   "execution_count": null,
   "metadata": {
    "collapsed": true
   },
   "outputs": [],
   "source": []
  }
 ],
 "metadata": {
  "kernelspec": {
   "display_name": "Python 3",
   "language": "python",
   "name": "python3"
  },
  "language_info": {
   "codemirror_mode": {
    "name": "ipython",
    "version": 3
   },
   "file_extension": ".py",
   "mimetype": "text/x-python",
   "name": "python",
   "nbconvert_exporter": "python",
   "pygments_lexer": "ipython3",
   "version": "3.6.3"
  }
 },
 "nbformat": 4,
 "nbformat_minor": 2
}
