{
 "cells": [
  {
   "cell_type": "code",
   "execution_count": null,
   "metadata": {},
   "outputs": [],
   "source": [
    "'''\n",
    "Function to calculate for the Minimum Edit Distance between two words\n",
    "'''\n",
    "import numpy as np\n",
    "import sys\n",
    "\n",
    " #Initialising cost variables\n",
    "def del_cost(source):\n",
    "    return 1\n",
    "def ins_cost(target):\n",
    "    return 1\n",
    "def sub_cost(source,target):\n",
    "    if source==target:\n",
    "        return 0\n",
    "    else:\n",
    "        return 2\n",
    "        \n",
    "def MEDistance(source,target):\n",
    "    #Creating distance matrix\n",
    "    row = len(source)+1\n",
    "    column = len(target)+1\n",
    "    #matrix = [[0 for x in range (row)] for y in range (column)]\n",
    "    matrix = np.zeros(shape=[row,column])\n",
    "   \n",
    "    #Row value initialization\n",
    "    for i in range(1,row):\n",
    "        matrix[i][0] = (matrix[i-1][0])+del_cost(source[i-1])\n",
    "        \n",
    "    #Column value initialization\n",
    "    for j in range(1,column):\n",
    "        matrix[0][j] = (matrix[0][j-1])+ins_cost(target[j-1])\n",
    "\n",
    "    #Recurrence relation\n",
    "    for i in range(1,row):\n",
    "         for j in range(1,column):\n",
    "                matrix[i][j] = min((matrix[i-1][j])+del_cost(source[i-1]), \n",
    "                                   (matrix[i-1][j-1])+sub_cost(source[i-1],target[j-1]), \n",
    "                                   (matrix[i][j-1])+ins_cost(target[j-1]))\n",
    "        \n",
    "    return(\"Minimum edit distance between\", source, \"and\", target, \"is\", str(matrix[row-1][column-1]))\n",
    "print(MEDistance(str(sys.argv[1]),str(sys.argv[2])))"
   ]
  }
 ],
 "metadata": {
  "kernelspec": {
   "display_name": "Python 3",
   "language": "python",
   "name": "python3"
  },
  "language_info": {
   "codemirror_mode": {
    "name": "ipython",
    "version": 3
   },
   "file_extension": ".py",
   "mimetype": "text/x-python",
   "name": "python",
   "nbconvert_exporter": "python",
   "pygments_lexer": "ipython3",
   "version": "3.6.3"
  }
 },
 "nbformat": 4,
 "nbformat_minor": 2
}
