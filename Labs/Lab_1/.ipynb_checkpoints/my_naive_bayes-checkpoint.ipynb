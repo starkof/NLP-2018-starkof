{
 "cells": [
  {
   "cell_type": "code",
   "execution_count": 51,
   "metadata": {},
   "outputs": [
    {
     "name": "stdout",
     "output_type": "stream",
     "text": [
      "Number of positive docs:  500\n",
      "Number of negative docs 500\n",
      "Total number of docs 1000\n"
     ]
    },
    {
     "data": {
      "text/plain": [
       "1"
      ]
     },
     "execution_count": 51,
     "metadata": {},
     "output_type": "execute_result"
    }
   ],
   "source": [
    "from math import log\n",
    "\n",
    "#TODO: Remove punctuations.\n",
    "\n",
    "positive_cls = 1\n",
    "negative_cls = 0\n",
    "\n",
    "def add_to_vocabulary(doc, vocab):\n",
    "    words = doc.split(' ')\n",
    "    \n",
    "    for word in words:\n",
    "        if word not in vocab:\n",
    "            vocab[word] = 1\n",
    "        else:\n",
    "            vocab[word] += 1\n",
    "            \n",
    "def find_log_likelyhood(word, cls_vocab, cls_den):\n",
    "    if word in cls_vocab:\n",
    "        n = cls_vocab[word]\n",
    "    else:\n",
    "        n = 0\n",
    "        \n",
    "    return log((n + 1)/cls_den)\n",
    "\n",
    "def calc_denominator(vocab, cls):\n",
    "    s = 0\n",
    "    for word in vocab['all']:\n",
    "        if word in vocab[cls]:\n",
    "            s += vocab[cls][word] + 1\n",
    "    \n",
    "    return s\n",
    "\n",
    "def train_naive_bayes_classifier(filename):\n",
    "    with open(filename) as f:\n",
    "        n_positive_docs = 0\n",
    "        n_negative_docs = 0\n",
    "        log_likelyhood = {positive_cls: {}, negative_cls: {}}\n",
    "        \n",
    "        # a dictionary of dictionaries to hold all vocabulary\n",
    "        vocabulary = {'all': {}, positive_cls: {}, negative_cls: {}}\n",
    "        \n",
    "        for line in f:\n",
    "            record = line.rstrip().split('\\t')\n",
    "            text = record[0]\n",
    "            cls = int(record[1])\n",
    "            \n",
    "            add_to_vocabulary(text, vocabulary['all'])\n",
    "            \n",
    "            if cls == negative_cls:\n",
    "                n_negative_docs += 1\n",
    "                add_to_vocabulary(text, vocabulary[negative_cls])\n",
    "            elif cls == positive_cls:\n",
    "                n_positive_docs += 1\n",
    "                add_to_vocabulary(text, vocabulary[positive_cls])\n",
    "                \n",
    "        n_docs = n_positive_docs + n_negative_docs\n",
    "        \n",
    "        logprior = {}\n",
    "        logprior[negative_cls] = log(n_negative_docs/n_docs)\n",
    "        logprior[positive_cls] = log(n_positive_docs/n_docs)\n",
    "                \n",
    "        positive_den = calc_denominator(vocabulary, positive_cls)\n",
    "        negative_den = calc_denominator(vocabulary, negative_cls)\n",
    "        \n",
    "        for word in vocabulary['all']:\n",
    "            log_likelyhood[positive_cls][word] = find_log_likelyhood(word, vocabulary[positive_cls], positive_den)\n",
    "            log_likelyhood[negative_cls][word] = find_log_likelyhood(word, vocabulary[negative_cls], negative_den)\n",
    "            \n",
    "    print('Number of positive docs: ', n_positive_docs)\n",
    "    print('Number of negative docs', n_negative_docs)\n",
    "    print('Total number of docs', n_docs)\n",
    "    \n",
    "    return log_likelyhood, logprior, vocabulary\n",
    "\n",
    "def argmax(sum_dict):\n",
    "    if sum_dict[positive_cls] > sum_dict[negative_cls]:\n",
    "        return positive_cls\n",
    "    else:\n",
    "        return negative_cls\n",
    "\n",
    "# the doc should be a list of words\n",
    "def classify_doc(log_likelyhood, logprior, vocabulary, doc):\n",
    "    classes = [positive_cls, negative_cls]\n",
    "    s = {}\n",
    "    s[positive_cls] = logprior[positive_cls]\n",
    "    s[negative_cls] = logprior[negative_cls]\n",
    "    \n",
    "    for cls in classes:\n",
    "        for word in doc:\n",
    "            if word in vocabulary['all']:\n",
    "                s[cls] += log_likelyhood[cls][word]\n",
    "    return argmax(s)\n",
    "\n",
    "log_likelyhood, logprior, vocabulary = train_naive_bayes_classifier('data/imdb_labelled.txt')\n",
    "classify_doc(log_likelyhood, logprior, vocabulary, 'This is good product'.split(' '))\n"
   ]
  },
  {
   "cell_type": "code",
   "execution_count": null,
   "metadata": {},
   "outputs": [],
   "source": []
  }
 ],
 "metadata": {
  "kernelspec": {
   "display_name": "Python 3",
   "language": "python",
   "name": "python3"
  },
  "language_info": {
   "codemirror_mode": {
    "name": "ipython",
    "version": 3
   },
   "file_extension": ".py",
   "mimetype": "text/x-python",
   "name": "python",
   "nbconvert_exporter": "python",
   "pygments_lexer": "ipython3",
   "version": "3.7.0"
  }
 },
 "nbformat": 4,
 "nbformat_minor": 2
}
