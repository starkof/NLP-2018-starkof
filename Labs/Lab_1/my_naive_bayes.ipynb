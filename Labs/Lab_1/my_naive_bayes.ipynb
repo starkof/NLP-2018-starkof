{
 "cells": [
  {
   "cell_type": "code",
   "execution_count": 1,
   "metadata": {},
   "outputs": [],
   "source": [
    "from math import log\n",
    "from random import random\n",
    "import string\n",
    "\n",
    "# setup required before program runs\n",
    "positive_cls = 1\n",
    "negative_cls = 0\n",
    "\n",
    "# proportion of the training data set (as a decimal) aside for testing\n",
    "testing_proportion = 0.2\n",
    "\n",
    "def remove_punctuations(s):\n",
    "    return s.replace(',', '').replace('.', '').replace('!', '').replace('?', '').replace('-', '').replace('(', '').replace(')', '').replace('\"', '').replace('$','').replace(\"'\", '').replace(':', '').replace('*', '').replace('%', '')\n",
    "\n",
    "def randomize_datasource(filenames):\n",
    "    training = open('training.txt', 'w')\n",
    "    testing = open('testing.txt', 'w')\n",
    "    \n",
    "    for fn in filenames:\n",
    "        with open(fn) as f:\n",
    "            for line in f:\n",
    "                line = line.lower()\n",
    "                line = remove_punctuations(line)\n",
    "                if random() > testing_proportion:\n",
    "                    print(line, file=training, end='')\n",
    "                else:\n",
    "                    print(line, file=testing, end='')\n",
    "    testing.close()\n",
    "    training.close()"
   ]
  },
  {
   "cell_type": "code",
   "execution_count": 2,
   "metadata": {},
   "outputs": [],
   "source": [
    "randomize_datasource(['data/yelp_labelled.txt', 'data/imdb_labelled.txt', 'data/amazon_cells_labelled.txt'])"
   ]
  },
  {
   "cell_type": "code",
   "execution_count": 3,
   "metadata": {},
   "outputs": [],
   "source": [
    "def add_to_vocabulary(doc, vocab):\n",
    "    words = doc.split(' ')\n",
    "    \n",
    "    for word in words:\n",
    "        if word != '':\n",
    "            if word not in vocab:\n",
    "                vocab[word] = 1\n",
    "            else:\n",
    "                vocab[word] += 1"
   ]
  },
  {
   "cell_type": "code",
   "execution_count": 4,
   "metadata": {},
   "outputs": [],
   "source": [
    "def find_log_likelyhood(word, cls_vocab, cls_den):\n",
    "    if word in cls_vocab:\n",
    "        n = cls_vocab[word]\n",
    "    else:\n",
    "        n = 0\n",
    "        \n",
    "    return log((n + 1)/cls_den)"
   ]
  },
  {
   "cell_type": "code",
   "execution_count": 5,
   "metadata": {},
   "outputs": [],
   "source": [
    "def calc_denominator(vocab, cls):\n",
    "    s = 0\n",
    "    for word in vocab['all']:\n",
    "        if word in vocab[cls]:\n",
    "            s += vocab[cls][word] + 1\n",
    "\n",
    "    return s"
   ]
  },
  {
   "cell_type": "code",
   "execution_count": 6,
   "metadata": {},
   "outputs": [],
   "source": [
    "def train_naive_bayes_classifier(files):\n",
    "    n_positive_docs = 0\n",
    "    n_negative_docs = 0\n",
    "    log_likelyhood = {positive_cls: {}, negative_cls: {}}\n",
    "    for filename in files:\n",
    "        with open(filename) as f:\n",
    "            # a dictionary of dictionaries to hold all vocabulary\n",
    "            vocabulary = {'all': {}, positive_cls: {}, negative_cls: {}}\n",
    "\n",
    "            for line in f:\n",
    "                record = line.rstrip().split('\\t')\n",
    "                text = record[0]\n",
    "                cls = int(record[1])\n",
    "\n",
    "                add_to_vocabulary(text, vocabulary['all'])\n",
    "\n",
    "                if cls == negative_cls:\n",
    "                    n_negative_docs += 1\n",
    "                    add_to_vocabulary(text, vocabulary[negative_cls])\n",
    "                elif cls == positive_cls:\n",
    "                    n_positive_docs += 1\n",
    "                    add_to_vocabulary(text, vocabulary[positive_cls])\n",
    "                \n",
    "        n_docs = n_positive_docs + n_negative_docs\n",
    "        \n",
    "        logprior = {}\n",
    "        logprior[negative_cls] = log(n_negative_docs/n_docs)\n",
    "        logprior[positive_cls] = log(n_positive_docs/n_docs)\n",
    "                \n",
    "        positive_den = calc_denominator(vocabulary, positive_cls)\n",
    "        negative_den = calc_denominator(vocabulary, negative_cls)\n",
    "        \n",
    "        for word in vocabulary['all']:\n",
    "            log_likelyhood[positive_cls][word] = find_log_likelyhood(word, vocabulary[positive_cls], positive_den)\n",
    "            log_likelyhood[negative_cls][word] = find_log_likelyhood(word, vocabulary[negative_cls], negative_den)\n",
    "            \n",
    "    print('Number of positive docs: ', n_positive_docs)\n",
    "    print('Number of negative docs', n_negative_docs)\n",
    "    print('Total number of docs', n_docs)\n",
    "    \n",
    "    return log_likelyhood, logprior, vocabulary"
   ]
  },
  {
   "cell_type": "code",
   "execution_count": 7,
   "metadata": {},
   "outputs": [],
   "source": [
    "def argmax(sum_dict):\n",
    "    if sum_dict[positive_cls] > sum_dict[negative_cls]:\n",
    "        return positive_cls\n",
    "    else:\n",
    "        return negative_cls"
   ]
  },
  {
   "cell_type": "code",
   "execution_count": 8,
   "metadata": {},
   "outputs": [],
   "source": [
    "# the doc should be a list of words\n",
    "def classify_doc(log_likelyhood, logprior, vocabulary, filename):\n",
    "    with open(filename) as f:\n",
    "        n = 0\n",
    "        k = 0\n",
    "        outfile = open('output.txt', 'w')\n",
    "        for line in f:\n",
    "            record = line.rstrip().split('\\t')\n",
    "            line = record[0]\n",
    "            c = int(record[1])\n",
    "            doc = line.split(' ')\n",
    "            classes = [positive_cls, negative_cls]\n",
    "            s = {}\n",
    "            \n",
    "            s[positive_cls] = logprior[positive_cls]\n",
    "            s[negative_cls] = logprior[negative_cls]\n",
    "            for cls in classes:\n",
    "                for word in doc:\n",
    "                    if word in vocabulary['all']:\n",
    "                        s[cls] += log_likelyhood[cls][word]\n",
    "            if (argmax(s) == c):\n",
    "                n += 1\n",
    "            k += 1\n",
    "        outfile.close()\n",
    "        \n",
    "        print('Number of test docs', k)\n",
    "        print('Accuracy (%)', (n/k)*100)"
   ]
  },
  {
   "cell_type": "code",
   "execution_count": 9,
   "metadata": {},
   "outputs": [
    {
     "name": "stdout",
     "output_type": "stream",
     "text": [
      "Number of positive docs:  1199\n",
      "Number of negative docs 1196\n",
      "Total number of docs 2395\n"
     ]
    }
   ],
   "source": [
    "log_likelyhood, logprior, vocabulary = train_naive_bayes_classifier(['training.txt'])"
   ]
  },
  {
   "cell_type": "code",
   "execution_count": 10,
   "metadata": {},
   "outputs": [
    {
     "name": "stdout",
     "output_type": "stream",
     "text": [
      "Number of test docs 605\n",
      "Accuracy (%) 80.99173553719008\n"
     ]
    }
   ],
   "source": [
    "classify_doc(log_likelyhood, logprior, vocabulary, 'testing.txt')"
   ]
  }
 ],
 "metadata": {
  "kernelspec": {
   "display_name": "Python 3",
   "language": "python",
   "name": "python3"
  },
  "language_info": {
   "codemirror_mode": {
    "name": "ipython",
    "version": 3
   },
   "file_extension": ".py",
   "mimetype": "text/x-python",
   "name": "python",
   "nbconvert_exporter": "python",
   "pygments_lexer": "ipython3",
   "version": "3.7.0"
  }
 },
 "nbformat": 4,
 "nbformat_minor": 2
}
