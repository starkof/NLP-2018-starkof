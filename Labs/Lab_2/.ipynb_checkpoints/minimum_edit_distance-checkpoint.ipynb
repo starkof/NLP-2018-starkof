{
 "cells": [
  {
   "cell_type": "code",
   "execution_count": 1,
   "metadata": {},
   "outputs": [],
   "source": [
    "import numpy as np\n",
    "\n",
    "def medistance(source, target):\n",
    "    n = len(source)\n",
    "    m = len(target)\n",
    "    \n",
    "    table = np.zeros((n+1, m+1))\n",
    "    \n",
    "    for i in range(1, n + 1):\n",
    "        table[i][0] = table[i-1][0] + del_cost(source[i-1])\n",
    "    \n",
    "    for j in range(1, m + 1):\n",
    "        table[0][j] = table[0][j-1] + ins_cost(target[j-1])\n",
    "    \n",
    "    for i in range(1, n + 1):\n",
    "        for j in range(1, m + 1):\n",
    "            table[i][j] = min(table[i-1][j] + del_cost(source[i-1]),\n",
    "                              table[i-1][j-1] + sub_cost(source[i-1], target[j-1]),\n",
    "                              table[i][j-1] + ins_cost(target[j-1]))\n",
    "    return table"
   ]
  },
  {
   "cell_type": "code",
   "execution_count": 2,
   "metadata": {},
   "outputs": [],
   "source": [
    "def del_cost(s):\n",
    "    return len(s)\n",
    "\n",
    "def ins_cost(s):\n",
    "    return len(s)\n",
    "\n",
    "def sub_cost(source, target):\n",
    "    if source == target:\n",
    "        return 0\n",
    "    else:\n",
    "        return 2"
   ]
  },
  {
   "cell_type": "code",
   "execution_count": 3,
   "metadata": {},
   "outputs": [
    {
     "name": "stdout",
     "output_type": "stream",
     "text": [
      "[[ 0.  1.  2.  3.  4.  5.  6.  7.  8.  9.]\n",
      " [ 1.  2.  3.  4.  5.  6.  7.  6.  7.  8.]\n",
      " [ 2.  3.  4.  5.  6.  7.  8.  7.  8.  7.]\n",
      " [ 3.  4.  5.  6.  7.  8.  7.  8.  9.  8.]\n",
      " [ 4.  3.  4.  5.  6.  7.  8.  9. 10.  9.]\n",
      " [ 5.  4.  5.  6.  7.  8.  9. 10. 11. 10.]\n",
      " [ 6.  5.  6.  7.  8.  9.  8.  9. 10. 11.]\n",
      " [ 7.  6.  7.  8.  9. 10.  9.  8.  9. 10.]\n",
      " [ 8.  7.  8.  9. 10. 11. 10.  9.  8.  9.]\n",
      " [ 9.  8.  9. 10. 11. 12. 11. 10.  9.  8.]]\n"
     ]
    }
   ],
   "source": [
    "print(medistance('intention', 'execution'))"
   ]
  }
 ],
 "metadata": {
  "kernelspec": {
   "display_name": "Python 3",
   "language": "python",
   "name": "python3"
  },
  "language_info": {
   "codemirror_mode": {
    "name": "ipython",
    "version": 3
   },
   "file_extension": ".py",
   "mimetype": "text/x-python",
   "name": "python",
   "nbconvert_exporter": "python",
   "pygments_lexer": "ipython3",
   "version": "3.7.0"
  }
 },
 "nbformat": 4,
 "nbformat_minor": 2
}
